{
 "cells": [
  {
   "cell_type": "code",
   "execution_count": 1,
   "metadata": {},
   "outputs": [
    {
     "name": "stdout",
     "output_type": "stream",
     "text": [
      "Collecting matplotlib\n",
      "  Downloading matplotlib-3.3.2-cp38-cp38-manylinux1_x86_64.whl (11.6 MB)\n",
      "\u001b[K     |████████████████████████████████| 11.6 MB 261 kB/s eta 0:00:01    |█████████████████████████       | 9.0 MB 664 kB/s eta 0:00:04     |██████████████████████████████▌ | 11.1 MB 5.4 MB/s eta 0:00:01\n",
      "\u001b[?25hRequirement already satisfied: python-dateutil>=2.1 in ./env/lib/python3.8/site-packages (from matplotlib) (2.8.1)\n",
      "Collecting cycler>=0.10\n",
      "  Using cached cycler-0.10.0-py2.py3-none-any.whl (6.5 kB)\n",
      "Requirement already satisfied: numpy>=1.15 in ./env/lib/python3.8/site-packages (from matplotlib) (1.19.2)\n",
      "Collecting certifi>=2020.06.20\n",
      "  Using cached certifi-2020.6.20-py2.py3-none-any.whl (156 kB)\n",
      "Requirement already satisfied: pyparsing!=2.0.4,!=2.1.2,!=2.1.6,>=2.0.3 in ./env/lib/python3.8/site-packages (from matplotlib) (2.4.7)\n",
      "Collecting kiwisolver>=1.0.1\n",
      "  Downloading kiwisolver-1.2.0-cp38-cp38-manylinux1_x86_64.whl (92 kB)\n",
      "\u001b[K     |████████████████████████████████| 92 kB 4.5 kB/s  eta 0:00:01\n",
      "\u001b[?25hCollecting pillow>=6.2.0\n",
      "  Downloading Pillow-7.2.0-cp38-cp38-manylinux1_x86_64.whl (2.2 MB)\n",
      "\u001b[K     |████████████████████████████████| 2.2 MB 4.0 MB/s eta 0:00:01\n",
      "\u001b[?25hRequirement already satisfied: six>=1.5 in ./env/lib/python3.8/site-packages (from python-dateutil>=2.1->matplotlib) (1.15.0)\n",
      "Installing collected packages: cycler, certifi, kiwisolver, pillow, matplotlib\n",
      "Successfully installed certifi-2020.6.20 cycler-0.10.0 kiwisolver-1.2.0 matplotlib-3.3.2 pillow-7.2.0\n"
     ]
    }
   ],
   "source": [
    "!pip install matplotlib\n",
    "\n",
    "import pandas as pd"
   ]
  },
  {
   "cell_type": "code",
   "execution_count": 2,
   "metadata": {},
   "outputs": [],
   "source": [
    "import matplotlib.pyplot as plt"
   ]
  },
  {
   "cell_type": "code",
   "execution_count": 4,
   "metadata": {},
   "outputs": [
    {
     "data": {
      "text/html": [
       "<div>\n",
       "<style scoped>\n",
       "    .dataframe tbody tr th:only-of-type {\n",
       "        vertical-align: middle;\n",
       "    }\n",
       "\n",
       "    .dataframe tbody tr th {\n",
       "        vertical-align: top;\n",
       "    }\n",
       "\n",
       "    .dataframe thead th {\n",
       "        text-align: right;\n",
       "    }\n",
       "</style>\n",
       "<table border=\"1\" class=\"dataframe\">\n",
       "  <thead>\n",
       "    <tr style=\"text-align: right;\">\n",
       "      <th></th>\n",
       "      <th>GRE</th>\n",
       "      <th>TOEFL</th>\n",
       "      <th>CGPA</th>\n",
       "      <th>WORK</th>\n",
       "      <th>YEAR</th>\n",
       "      <th>UNIVERSITY</th>\n",
       "    </tr>\n",
       "  </thead>\n",
       "  <tbody>\n",
       "    <tr>\n",
       "      <th>0</th>\n",
       "      <td>321.0</td>\n",
       "      <td>112.0</td>\n",
       "      <td>8.86</td>\n",
       "      <td>7.0</td>\n",
       "      <td>2019.0</td>\n",
       "      <td>University of California San Diego</td>\n",
       "    </tr>\n",
       "    <tr>\n",
       "      <th>1</th>\n",
       "      <td>321.0</td>\n",
       "      <td>108.0</td>\n",
       "      <td>9.00</td>\n",
       "      <td>25.0</td>\n",
       "      <td>2018.0</td>\n",
       "      <td>University of California San Diego</td>\n",
       "    </tr>\n",
       "    <tr>\n",
       "      <th>2</th>\n",
       "      <td>327.0</td>\n",
       "      <td>111.0</td>\n",
       "      <td>8.43</td>\n",
       "      <td>18.0</td>\n",
       "      <td>2019.0</td>\n",
       "      <td>University of California San Diego</td>\n",
       "    </tr>\n",
       "    <tr>\n",
       "      <th>3</th>\n",
       "      <td>NaN</td>\n",
       "      <td>NaN</td>\n",
       "      <td>7.00</td>\n",
       "      <td>5.0</td>\n",
       "      <td>2019.0</td>\n",
       "      <td>University of California Berkeley</td>\n",
       "    </tr>\n",
       "    <tr>\n",
       "      <th>4</th>\n",
       "      <td>327.0</td>\n",
       "      <td>114.0</td>\n",
       "      <td>9.37</td>\n",
       "      <td>5.0</td>\n",
       "      <td>2019.0</td>\n",
       "      <td>University of California Berkeley</td>\n",
       "    </tr>\n",
       "  </tbody>\n",
       "</table>\n",
       "</div>"
      ],
      "text/plain": [
       "     GRE  TOEFL  CGPA  WORK    YEAR                          UNIVERSITY\n",
       "0  321.0  112.0  8.86   7.0  2019.0  University of California San Diego\n",
       "1  321.0  108.0  9.00  25.0  2018.0  University of California San Diego\n",
       "2  327.0  111.0  8.43  18.0  2019.0  University of California San Diego\n",
       "3    NaN    NaN  7.00   5.0  2019.0   University of California Berkeley\n",
       "4  327.0  114.0  9.37   5.0  2019.0   University of California Berkeley"
      ]
     },
     "execution_count": 4,
     "metadata": {},
     "output_type": "execute_result"
    }
   ],
   "source": [
    "df = pd.read_csv(\"collectedData.csv\", names=[\"GRE\", \"TOEFL\", \"CGPA\", \"WORK\", \"YEAR\", \"UNIVERSITY\"])\n",
    "\n",
    "df.head()"
   ]
  },
  {
   "cell_type": "code",
   "execution_count": 13,
   "metadata": {},
   "outputs": [],
   "source": [
    "def ieltsToToefl(score):\n",
    "    scoreMap = {\n",
    "        4.0:31,\n",
    "        4.5:32,\n",
    "        5.0:35,\n",
    "        5.5:46,\n",
    "        6.0:60,\n",
    "        6.5:79,\n",
    "        7.0:94,\n",
    "        7.5:102,\n",
    "        8.0:110,\n",
    "        8.5:115,\n",
    "        9.0:118\n",
    "    }\n",
    "    if score<10:\n",
    "        toeflScore = 0 if score<4 else scoreMap[score]\n",
    "    else:\n",
    "        toeflScore = score\n",
    "    \n",
    "    return toeflScore\n",
    "\n",
    "#ieltsToToefl(4)\n",
    "\n",
    "df[\"TOEFL\"] = df[\"TOEFL\"].apply(lambda x:ieltsToToefl(x))"
   ]
  },
  {
   "cell_type": "code",
   "execution_count": 15,
   "metadata": {},
   "outputs": [],
   "source": [
    "def cleanYear(year):\n",
    "    cleanedYear = 0\n",
    "    if year>2020:\n",
    "        cleanedYear=2020\n",
    "    elif year<2010:\n",
    "        cleanedYear=2018\n",
    "    else:\n",
    "        cleanedYear=year\n",
    "    \n",
    "    return year\n",
    "\n",
    "df[\"YEAR\"] = df[\"YEAR\"].apply(lambda x:cleanYear(x))"
   ]
  },
  {
   "cell_type": "code",
   "execution_count": 30,
   "metadata": {},
   "outputs": [
    {
     "data": {
      "text/plain": [
       "UNIVERSITY\n",
       "California State University - Chico         304.4\n",
       "California State University - Long Beach    307.0\n",
       "Carnegie Mellon University                  325.6\n",
       "Columbia University                         328.0\n",
       "Cornell University                          324.4\n",
       "Georgia Tech                                326.4\n",
       "Massachusetts Institute of Technology       314.8\n",
       "New York University                         324.0\n",
       "Princeton University                          NaN\n",
       "Purdue University                           323.0\n",
       "San Francisco State University              311.2\n",
       "San Jose State University                   318.0\n",
       "Santa Clara University                      311.0\n",
       "Stanford University                         315.2\n",
       "University of California Berkeley           327.0\n",
       "University of California Davis              322.0\n",
       "University of California Irvine             325.0\n",
       "University of California Los Angeles        328.0\n",
       "University of California Riverside          316.0\n",
       "University of California San Diego          326.0\n",
       "University of California Santa Barbara      323.8\n",
       "University of California Santa Cruz         322.0\n",
       "University of Rochester                     328.6\n",
       "University of Southern California           321.0\n",
       "Yale University                             309.0\n",
       "Name: GRE, dtype: float64"
      ]
     },
     "execution_count": 30,
     "metadata": {},
     "output_type": "execute_result"
    }
   ],
   "source": [
    "df[df[\"YEAR\"]>2018].groupby([\"UNIVERSITY\"])[\"GRE\"].quantile(.6)"
   ]
  }
 ],
 "metadata": {
  "kernelspec": {
   "display_name": "Python 3",
   "language": "python",
   "name": "python3"
  },
  "language_info": {
   "codemirror_mode": {
    "name": "ipython",
    "version": 3
   },
   "file_extension": ".py",
   "mimetype": "text/x-python",
   "name": "python",
   "nbconvert_exporter": "python",
   "pygments_lexer": "ipython3",
   "version": "3.8.2"
  }
 },
 "nbformat": 4,
 "nbformat_minor": 4
}
